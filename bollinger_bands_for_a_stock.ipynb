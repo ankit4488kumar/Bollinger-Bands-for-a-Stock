{
 "cells": [
  {
   "cell_type": "markdown",
   "metadata": {},
   "source": [
    "# Pandas: Calculate and plot the Bollinger Bands for a Stock"
   ]
  },
  {
   "cell_type": "markdown",
   "metadata": {},
   "source": [
    "# What is the Bollinger Bands?\n",
    "A Bollinger Band® is a technical analysis tool defined by a set of trendlines plotted two standard deviations (positively and negatively) away from a simple moving average (SMA) of a security’s price, but which can be adjusted to user preferences."
   ]
  },
  {
   "cell_type": "markdown",
   "metadata": {},
   "source": [
    "https://www.investopedia.com/terms/b/bollingerbands.asp\n",
    "The Bollinger Bands are used to discover if a stock is oversold or overbought. It is called a mean reversion indicator, which measures how far a price swing will stretch before a counter impulse triggers a retracement.\n",
    "\n",
    "It is a lagging indicator, which is looking at historical background of the current price. Opposed to a leading indicator, which tries to where the price is heading."
   ]
  },
  {
   "cell_type": "markdown",
   "metadata": {},
   "source": [
    "# Step 1: Get some time series data on a stock"
   ]
  },
  {
   "cell_type": "markdown",
   "metadata": {},
   "source": [
    "we will use the Apple stock as example, which has ticker AAPL. You can change to any other stock of your interest by changing the ticker below. To find the ticker of your favorite company/stock you can use Yahoo! Finance ticker lookup.\n",
    "\n",
    "To get some time series of stock data we will use the Pandas-datareader library to collect it from Yahoo! Finance."
   ]
  },
  {
   "cell_type": "code",
   "execution_count": 2,
   "metadata": {},
   "outputs": [
    {
     "name": "stdout",
     "output_type": "stream",
     "text": [
      "Collecting pandas_datareader\n",
      "  Downloading pandas_datareader-0.10.0-py3-none-any.whl (109 kB)\n",
      "     ------------------------------------ 109.5/109.5 kB 703.7 kB/s eta 0:00:00\n",
      "Requirement already satisfied: requests>=2.19.0 in c:\\users\\ankit\\anaconda3\\lib\\site-packages (from pandas_datareader) (2.27.1)\n",
      "Requirement already satisfied: lxml in c:\\users\\ankit\\anaconda3\\lib\\site-packages (from pandas_datareader) (4.6.1)\n",
      "Requirement already satisfied: pandas>=0.23 in c:\\users\\ankit\\anaconda3\\lib\\site-packages (from pandas_datareader) (1.1.3)\n",
      "Requirement already satisfied: python-dateutil>=2.7.3 in c:\\users\\ankit\\anaconda3\\lib\\site-packages (from pandas>=0.23->pandas_datareader) (2.8.2)\n",
      "Requirement already satisfied: pytz>=2017.2 in c:\\users\\ankit\\anaconda3\\lib\\site-packages (from pandas>=0.23->pandas_datareader) (2020.1)\n",
      "Requirement already satisfied: numpy>=1.15.4 in c:\\users\\ankit\\anaconda3\\lib\\site-packages (from pandas>=0.23->pandas_datareader) (1.22.3)\n",
      "Requirement already satisfied: certifi>=2017.4.17 in c:\\users\\ankit\\anaconda3\\lib\\site-packages (from requests>=2.19.0->pandas_datareader) (2021.10.8)\n",
      "Requirement already satisfied: idna<4,>=2.5 in c:\\users\\ankit\\anaconda3\\lib\\site-packages (from requests>=2.19.0->pandas_datareader) (3.3)\n",
      "Requirement already satisfied: charset-normalizer~=2.0.0 in c:\\users\\ankit\\anaconda3\\lib\\site-packages (from requests>=2.19.0->pandas_datareader) (2.0.12)\n",
      "Requirement already satisfied: urllib3<1.27,>=1.21.1 in c:\\users\\ankit\\anaconda3\\lib\\site-packages (from requests>=2.19.0->pandas_datareader) (1.26.9)\n",
      "Requirement already satisfied: six>=1.5 in c:\\users\\ankit\\anaconda3\\lib\\site-packages (from python-dateutil>=2.7.3->pandas>=0.23->pandas_datareader) (1.16.0)\n",
      "Installing collected packages: pandas_datareader\n",
      "Successfully installed pandas_datareader-0.10.0\n"
     ]
    }
   ],
   "source": [
    "!pip install pandas_datareader"
   ]
  },
  {
   "cell_type": "code",
   "execution_count": 3,
   "metadata": {},
   "outputs": [
    {
     "name": "stdout",
     "output_type": "stream",
     "text": [
      "                 Close        High         Low\n",
      "Date                                          \n",
      "2019-12-31   73.412498   73.419998   72.379997\n",
      "2020-01-02   75.087502   75.150002   73.797501\n",
      "2020-01-03   74.357498   75.144997   74.125000\n",
      "2020-01-06   74.949997   74.989998   73.187500\n",
      "2020-01-07   74.597504   75.224998   74.370003\n",
      "...                ...         ...         ...\n",
      "2022-06-21  135.869995  137.059998  133.320007\n",
      "2022-06-22  135.350006  137.759995  133.910004\n",
      "2022-06-23  138.270004  138.589996  135.630005\n",
      "2022-06-24  141.660004  141.910004  139.770004\n",
      "2022-06-27  141.660004  143.490005  140.970001\n",
      "\n",
      "[627 rows x 3 columns]\n"
     ]
    }
   ],
   "source": [
    "import pandas_datareader as pdr\n",
    "import datetime as dt\n",
    "\n",
    "ticker = pdr.get_data_yahoo(\"AAPL\", dt.datetime(2020, 1, 1), dt.datetime.now())[['Close', 'High', 'Low']]\n",
    "print(ticker)"
   ]
  },
  {
   "cell_type": "markdown",
   "metadata": {},
   "source": [
    "We will use the Close, High and Low columns to do the further calculations."
   ]
  },
  {
   "cell_type": "markdown",
   "metadata": {},
   "source": [
    "# Step 2: How are the Bollinger Bands calculated"
   ]
  },
  {
   "cell_type": "markdown",
   "metadata": {},
   "source": [
    "we can refer to Investopedia.org to get the answer, which states that the Bollinger Bands are calculated as follows.\n",
    "\n",
    "BOLU=MA(TP,n)+m∗σ[TP,n]\n",
    "\n",
    "BOLD=MA(TP,n)−m∗σ[TP,n]\n",
    "\n",
    "Where BOLU is the Upper Bollinger Band and BOLD is Lower Bollinger Band. The MA is the Moving Average. The TP and σ are calculated as follows.\n",
    "\n",
    "TP (typical price)=(High+Low+Close)÷3\n",
    "\n",
    "σ[TP,n] = Standard Deviation over last n periods of TP​\n",
    "\n",
    "Where n is the number of days in smoothing period (typically 20), and m is the number of standard deviations (typically 2)."
   ]
  },
  {
   "cell_type": "markdown",
   "metadata": {},
   "source": [
    "# Step 3: Calculate the Bollinger Bands"
   ]
  },
  {
   "cell_type": "markdown",
   "metadata": {},
   "source": [
    "This is straight forward. We start by calculating the typical price TP and then the standard deviation over the last 20 days (the typical value). Then we calculate the simple moving average of rolling over the last 20 days (the typical value). Then we have the values to calculate the upper and lower values of the Bolling Bands (BOLU and BOLD)."
   ]
  },
  {
   "cell_type": "code",
   "execution_count": 4,
   "metadata": {},
   "outputs": [
    {
     "name": "stdout",
     "output_type": "stream",
     "text": [
      "                 Close        High         Low          TP       std  \\\n",
      "Date                                                                   \n",
      "2019-12-31   73.412498   73.419998   72.379997   73.070831       NaN   \n",
      "2020-01-02   75.087502   75.150002   73.797501   74.678335       NaN   \n",
      "2020-01-03   74.357498   75.144997   74.125000   74.542498       NaN   \n",
      "2020-01-06   74.949997   74.989998   73.187500   74.375832       NaN   \n",
      "2020-01-07   74.597504   75.224998   74.370003   74.730835       NaN   \n",
      "...                ...         ...         ...         ...       ...   \n",
      "2022-06-21  135.869995  137.059998  133.320007  135.416667  6.444177   \n",
      "2022-06-22  135.350006  137.759995  133.910004  135.673335  6.564290   \n",
      "2022-06-23  138.270004  138.589996  135.630005  137.496668  6.607310   \n",
      "2022-06-24  141.660004  141.910004  139.770004  141.113337  6.604865   \n",
      "2022-06-27  141.660004  143.490005  140.970001  142.040003  6.606692   \n",
      "\n",
      "                 MA-TP        BOLU        BOLD  \n",
      "Date                                            \n",
      "2019-12-31         NaN         NaN         NaN  \n",
      "2020-01-02         NaN         NaN         NaN  \n",
      "2020-01-03         NaN         NaN         NaN  \n",
      "2020-01-06         NaN         NaN         NaN  \n",
      "2020-01-07         NaN         NaN         NaN  \n",
      "...                ...         ...         ...  \n",
      "2022-06-21  141.405666  154.294019  128.517313  \n",
      "2022-06-22  141.122333  154.250913  127.993754  \n",
      "2022-06-23  141.002833  154.217454  127.788213  \n",
      "2022-06-24  141.047667  154.257398  127.837936  \n",
      "2022-06-27  141.062001  154.275384  127.848617  \n",
      "\n",
      "[627 rows x 8 columns]\n"
     ]
    }
   ],
   "source": [
    "ticker['TP'] = (ticker['Close'] + ticker['Low'] + ticker['High'])/3\n",
    "ticker['std'] = ticker['TP'].rolling(20).std(ddof=0)\n",
    "ticker['MA-TP'] = ticker['TP'].rolling(20).mean()\n",
    "ticker['BOLU'] = ticker['MA-TP'] + 2*ticker['std']\n",
    "ticker['BOLD'] = ticker['MA-TP'] - 2*ticker['std']\n",
    "print(ticker)"
   ]
  },
  {
   "cell_type": "markdown",
   "metadata": {},
   "source": [
    "Note, that if you compare you results with Yahoo! Finance for Apple, there will be some small difference. The reason is, that they by default use TP to be closing price and not the average of the Close, Low and High. If you change TP to equal Close only, you will get the same figures as they do."
   ]
  },
  {
   "cell_type": "markdown",
   "metadata": {},
   "source": [
    "# Step 4: Plotting it on a graph"
   ]
  },
  {
   "cell_type": "markdown",
   "metadata": {},
   "source": [
    "Plotting the three lines is straight forward by using plot() on the DataFrame. Making an filled area with color between BOLU and BOLD can be achieved by using fill_between().\n",
    "\n",
    "This results in the full program to be."
   ]
  },
  {
   "cell_type": "code",
   "execution_count": 5,
   "metadata": {},
   "outputs": [
    {
     "name": "stdout",
     "output_type": "stream",
     "text": [
      "                 Close        High         Low          TP       std  \\\n",
      "Date                                                                   \n",
      "2020-01-29   81.084999   81.962502   80.345001   81.130834  2.226784   \n",
      "2020-01-30   80.967499   81.022499   79.687500   80.559166  2.070278   \n",
      "2020-01-31   77.377502   80.669998   77.072502   78.373334  1.934957   \n",
      "2020-02-03   77.165001   78.372498   75.555000   77.030833  1.776701   \n",
      "2020-02-04   79.712502   79.910004   78.407501   79.343335  1.557056   \n",
      "...                ...         ...         ...         ...       ...   \n",
      "2022-06-21  135.869995  137.059998  133.320007  135.416667  6.444177   \n",
      "2022-06-22  135.350006  137.759995  133.910004  135.673335  6.564290   \n",
      "2022-06-23  138.270004  138.589996  135.630005  137.496668  6.607310   \n",
      "2022-06-24  141.660004  141.910004  139.770004  141.113337  6.604865   \n",
      "2022-06-27  141.660004  143.490005  140.970001  142.040003  6.606692   \n",
      "\n",
      "                 MA-TP        BOLU        BOLD  \n",
      "Date                                            \n",
      "2020-01-29   77.525875   81.979443   73.072306  \n",
      "2020-01-30   77.900292   82.040848   73.759735  \n",
      "2020-01-31   78.085042   81.954955   74.215128  \n",
      "2020-02-03   78.209458   81.762860   74.656057  \n",
      "2020-02-04   78.457833   81.571946   75.343721  \n",
      "...                ...         ...         ...  \n",
      "2022-06-21  141.405666  154.294019  128.517313  \n",
      "2022-06-22  141.122333  154.250913  127.993754  \n",
      "2022-06-23  141.002833  154.217454  127.788213  \n",
      "2022-06-24  141.047667  154.257398  127.837936  \n",
      "2022-06-27  141.062001  154.275384  127.848617  \n",
      "\n",
      "[608 rows x 8 columns]\n"
     ]
    },
    {
     "data": {
      "image/png": "[encoded data removed]",
      "text/plain": [
       "<Figure size 432x288 with 1 Axes>"
      ]
     },
     "metadata": {
      "needs_background": "light"
     },
     "output_type": "display_data"
    }
   ],
   "source": [
    "import pandas_datareader as pdr\n",
    "import datetime as dt\n",
    "import matplotlib.pyplot as plt\n",
    "\n",
    "ticker = pdr.get_data_yahoo(\"AAPL\", dt.datetime(2020, 1, 1), dt.datetime.now())[['Close', 'High', 'Low']]\n",
    "# Boillinger band calculations\n",
    "ticker['TP'] = (ticker['Close'] + ticker['Low'] + ticker['High'])/3\n",
    "ticker['std'] = ticker['TP'].rolling(20).std(ddof=0)\n",
    "ticker['MA-TP'] = ticker['TP'].rolling(20).mean()\n",
    "ticker['BOLU'] = ticker['MA-TP'] + 2*ticker['std']\n",
    "ticker['BOLD'] = ticker['MA-TP'] - 2*ticker['std']\n",
    "ticker = ticker.dropna()\n",
    "print(ticker)\n",
    "# Plotting it all together\n",
    "ax = ticker[['Close', 'BOLU', 'BOLD']].plot(color=['blue', 'orange', 'yellow'])\n",
    "ax.fill_between(ticker.index, ticker['BOLD'], ticker['BOLU'], facecolor='orange', alpha=0.1)\n",
    "plt.show()"
   ]
  },
  {
   "cell_type": "markdown",
   "metadata": {},
   "source": [
    "# Step 5: How to use the Bollinger Band Indicator?"
   ]
  },
  {
   "cell_type": "markdown",
   "metadata": {},
   "source": [
    "If the stock price are continuously touching the upper Bollinger Band (BOLU) the market is thought to be overbought. While if the price continuously touches the lower Bollinger Band (BOLD) the market is thought to be oversold.\n",
    "\n",
    "The more volatile the market is, the wider the upper and lower band will be. Hence, it also indicates how volatile the market is at a given period.\n",
    "The volatility measured by the Bollinger Band is referred to as a squeeze when the upper and lower band are close. This is considered to be a sign that there will be more volatility in the coming future, which opens up for possible trading opportunities.\n",
    "\n",
    "A common misconception of the bands are that when the price outbreaks the the bounds of the upper and lower band, it is a trading signal. This is not the case.\n",
    "\n",
    "As with all trading indicators, it should not be used alone to make trading decisions."
   ]
  },
  {
   "cell_type": "code",
   "execution_count": null,
   "metadata": {},
   "outputs": [],
   "source": []
  }
 ],
 "metadata": {
  "kernelspec": {
   "display_name": "Python 3 (ipykernel)",
   "language": "python",
   "name": "python3"
  },
  "language_info": {
   "codemirror_mode": {
    "name": "ipython",
    "version": 3
   },
   "file_extension": ".py",
   "mimetype": "text/x-python",
   "name": "python",
   "nbconvert_exporter": "python",
   "pygments_lexer": "ipython3",
   "version": "3.8.5"
  }
 },
 "nbformat": 4,
 "nbformat_minor": 4
}
